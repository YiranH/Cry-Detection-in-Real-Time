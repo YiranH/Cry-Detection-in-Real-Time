{
 "cells": [
  {
   "cell_type": "markdown",
   "metadata": {
    "colab_type": "text",
    "id": "LsHXr4ECOLDD"
   },
   "source": [
    "Connect to google drive"
   ]
  },
  {
   "cell_type": "code",
   "execution_count": 0,
   "metadata": {
    "colab": {
     "base_uri": "https://localhost:8080/",
     "height": 34
    },
    "colab_type": "code",
    "executionInfo": {
     "elapsed": 2712,
     "status": "ok",
     "timestamp": 1585027611823,
     "user": {
      "displayName": "Yiran Huang",
      "photoUrl": "",
      "userId": "05736232613090018980"
     },
     "user_tz": 300
    },
    "id": "jgv5aLyd8Zgd",
    "outputId": "b5439ae4-0515-4344-bfe8-54257a9b284b"
   },
   "outputs": [
    {
     "name": "stdout",
     "output_type": "stream",
     "text": [
      "Mounted at /content/drive/\n"
     ]
    }
   ],
   "source": [
    "from google.colab import drive\n",
    "drive.mount(\"/content/drive/\", force_remount=True)"
   ]
  },
  {
   "cell_type": "markdown",
   "metadata": {
    "colab_type": "text",
    "id": "eWsTWkZJOO1L"
   },
   "source": [
    "Code to upload files to google drive"
   ]
  },
  {
   "cell_type": "code",
   "execution_count": 0,
   "metadata": {
    "colab": {},
    "colab_type": "code",
    "id": "Q-jjZg3uZtoy"
   },
   "outputs": [],
   "source": [
    "# upload file\n",
    "from pydrive.auth import GoogleAuth\n",
    "from pydrive.drive import GoogleDrive\n",
    "from google.colab import auth\n",
    "from oauth2client.client import GoogleCredentials\n",
    "auth.authenticate_user()\n",
    "gauth = GoogleAuth()\n",
    "gauth.credentials = GoogleCredentials.get_application_default()\n",
    "drive = GoogleDrive(gauth)\n",
    "\n",
    "def upload(name):\n",
    "  uploaded = drive.CreateFile({'title': name})\n",
    "  uploaded.SetContentFile(name)\n",
    "  uploaded.Upload()\n",
    "  print('Uploaded file with ID {}'.format(uploaded.get('id')))"
   ]
  },
  {
   "cell_type": "markdown",
   "metadata": {
    "colab_type": "text",
    "id": "HRlLAb7U89Nu"
   },
   "source": [
    "Read input video (Change **FILEPATH** to the video you are going to use)"
   ]
  },
  {
   "cell_type": "code",
   "execution_count": 0,
   "metadata": {
    "colab": {},
    "colab_type": "code",
    "id": "za1NjZY6ZqoW"
   },
   "outputs": [],
   "source": [
    "FILEPATH = '/content/drive/My Drive/636/sample_video/sample.mp4'"
   ]
  },
  {
   "cell_type": "code",
   "execution_count": 0,
   "metadata": {
    "colab": {
     "base_uri": "https://localhost:8080/",
     "height": 522
    },
    "colab_type": "code",
    "executionInfo": {
     "elapsed": 7506,
     "status": "ok",
     "timestamp": 1585027616634,
     "user": {
      "displayName": "Yiran Huang",
      "photoUrl": "",
      "userId": "05736232613090018980"
     },
     "user_tz": 300
    },
    "id": "q_t9mdrPiIbD",
    "outputId": "050f8e51-4073-4b2f-b75f-1b3a1743ef0b"
   },
   "outputs": [
    {
     "name": "stdout",
     "output_type": "stream",
     "text": [
      "ffmpeg version 3.4.6-0ubuntu0.18.04.1 Copyright (c) 2000-2019 the FFmpeg developers\n",
      "  built with gcc 7 (Ubuntu 7.3.0-16ubuntu3)\n",
      "  configuration: --prefix=/usr --extra-version=0ubuntu0.18.04.1 --toolchain=hardened --libdir=/usr/lib/x86_64-linux-gnu --incdir=/usr/include/x86_64-linux-gnu --enable-gpl --disable-stripping --enable-avresample --enable-avisynth --enable-gnutls --enable-ladspa --enable-libass --enable-libbluray --enable-libbs2b --enable-libcaca --enable-libcdio --enable-libflite --enable-libfontconfig --enable-libfreetype --enable-libfribidi --enable-libgme --enable-libgsm --enable-libmp3lame --enable-libmysofa --enable-libopenjpeg --enable-libopenmpt --enable-libopus --enable-libpulse --enable-librubberband --enable-librsvg --enable-libshine --enable-libsnappy --enable-libsoxr --enable-libspeex --enable-libssh --enable-libtheora --enable-libtwolame --enable-libvorbis --enable-libvpx --enable-libwavpack --enable-libwebp --enable-libx265 --enable-libxml2 --enable-libxvid --enable-libzmq --enable-libzvbi --enable-omx --enable-openal --enable-opengl --enable-sdl2 --enable-libdc1394 --enable-libdrm --enable-libiec61883 --enable-chromaprint --enable-frei0r --enable-libopencv --enable-libx264 --enable-shared\n",
      "  libavutil      55. 78.100 / 55. 78.100\n",
      "  libavcodec     57.107.100 / 57.107.100\n",
      "  libavformat    57. 83.100 / 57. 83.100\n",
      "  libavdevice    57. 10.100 / 57. 10.100\n",
      "  libavfilter     6.107.100 /  6.107.100\n",
      "  libavresample   3.  7.  0 /  3.  7.  0\n",
      "  libswscale      4.  8.100 /  4.  8.100\n",
      "  libswresample   2.  9.100 /  2.  9.100\n",
      "  libpostproc    54.  7.100 / 54.  7.100\n",
      "Input #0, mov,mp4,m4a,3gp,3g2,mj2, from '/content/drive/My Drive/636/sample_video/sample.mp4':\n",
      "  Metadata:\n",
      "    major_brand     : mp42\n",
      "    minor_version   : 0\n",
      "    compatible_brands: isommp42\n",
      "    creation_time   : 2020-01-29T10:51:04.000000Z\n",
      "  Duration: 00:01:36.80, start: 0.000000, bitrate: 358 kb/s\n",
      "    Stream #0:0(und): Video: h264 (Constrained Baseline) (avc1 / 0x31637661), yuv420p, 480x360 [SAR 1:1 DAR 4:3], 260 kb/s, 30 fps, 30 tbr, 15360 tbn, 60 tbc (default)\n",
      "    Metadata:\n",
      "      creation_time   : 2020-01-29T10:51:04.000000Z\n",
      "      handler_name    : ISO Media file produced by Google Inc. Created on: 01/29/2020.\n",
      "    Stream #0:1(eng): Audio: aac (LC) (mp4a / 0x6134706D), 44100 Hz, stereo, fltp, 96 kb/s (default)\n",
      "    Metadata:\n",
      "      creation_time   : 2020-01-29T10:51:04.000000Z\n",
      "      handler_name    : ISO Media file produced by Google Inc. Created on: 01/29/2020.\n",
      "\u001b[4;31mAt least one output file must be specified\n",
      "\u001b[0m"
     ]
    }
   ],
   "source": [
    "# you can get fps from here, or do simple math\n",
    "!ffmpeg -i '/content/drive/My Drive/636/sample_video/sample.mp4'"
   ]
  },
  {
   "cell_type": "markdown",
   "metadata": {
    "colab_type": "text",
    "id": "j-WHWU1K81bJ"
   },
   "source": [
    "Use openpose to generate frames (may take a long time)"
   ]
  },
  {
   "cell_type": "code",
   "execution_count": 0,
   "metadata": {
    "colab": {},
    "colab_type": "code",
    "id": "jpoH5RaeB19t"
   },
   "outputs": [],
   "source": [
    "import os\n",
    "from os.path import exists, join, basename, splitext\n",
    "\n",
    "git_repo_url = 'https://github.com/CMU-Perceptual-Computing-Lab/openpose.git'\n",
    "project_name = splitext(basename(git_repo_url))[0]\n",
    "if not exists(project_name):\n",
    "  # see: https://github.com/CMU-Perceptual-Computing-Lab/openpose/issues/949\n",
    "  # install new CMake becaue of CUDA10\n",
    "  !wget -q https://cmake.org/files/v3.13/cmake-3.13.0-Linux-x86_64.tar.gz\n",
    "  !tar xfz cmake-3.13.0-Linux-x86_64.tar.gz --strip-components=1 -C /usr/local\n",
    "  # clone openpose\n",
    "  !git clone -q --depth 1 $git_repo_url\n",
    "  !sed -i 's/execute_process(COMMAND git checkout master WORKING_DIRECTORY ${CMAKE_SOURCE_DIR}\\/3rdparty\\/caffe)/execute_process(COMMAND git checkout f019d0dfe86f49d1140961f8c7dec22130c83154 WORKING_DIRECTORY ${CMAKE_SOURCE_DIR}\\/3rdparty\\/caffe)/g' openpose/CMakeLists.txt\n",
    "  # install system dependencies\n",
    "  !apt-get -qq install -y libatlas-base-dev libprotobuf-dev libleveldb-dev libsnappy-dev libhdf5-serial-dev protobuf-compiler libgflags-dev libgoogle-glog-dev liblmdb-dev opencl-headers ocl-icd-opencl-dev libviennacl-dev\n",
    "  # install python dependencies\n",
    "  !pip install -q youtube-dl\n",
    "  # build openpose\n",
    "  !cd openpose && rm -rf build || true && mkdir build && cd build && cmake .. && make -j`nproc`\n",
    "  \n",
    "from IPython.display import YouTubeVideo"
   ]
  },
  {
   "cell_type": "markdown",
   "metadata": {
    "colab_type": "text",
    "id": "3zXnAear9S3_"
   },
   "source": [
    "Generate facial landmarks input from frames"
   ]
  },
  {
   "cell_type": "code",
   "execution_count": 0,
   "metadata": {
    "colab": {
     "base_uri": "https://localhost:8080/",
     "height": 34
    },
    "colab_type": "code",
    "executionInfo": {
     "elapsed": 1564,
     "status": "ok",
     "timestamp": 1585027628702,
     "user": {
      "displayName": "Yiran Huang",
      "photoUrl": "",
      "userId": "05736232613090018980"
     },
     "user_tz": 300
    },
    "id": "TV5QpHfjhs7U",
    "outputId": "71b12ee9-4e4e-4091-aa63-4397a5d29539"
   },
   "outputs": [
    {
     "name": "stdout",
     "output_type": "stream",
     "text": [
      "/bin/bash: line 0: cd: openpose: No such file or directory\n"
     ]
    }
   ],
   "source": [
    "# detect poses of images\n",
    "!cd openpose && ./build/examples/openpose/openpose.bin --video ../drive/My\\ Drive/636/sample_video/sample.mp4 --write_json output/ --display 0 --render_pose 0 --face"
   ]
  },
  {
   "cell_type": "code",
   "execution_count": 0,
   "metadata": {
    "colab": {},
    "colab_type": "code",
    "id": "34Cit2dgnEnF"
   },
   "outputs": [],
   "source": [
    "import json\n",
    "import pandas as pd\n",
    "import numpy as np\n",
    "import os, os.path"
   ]
  },
  {
   "cell_type": "code",
   "execution_count": 0,
   "metadata": {
    "colab": {},
    "colab_type": "code",
    "id": "EpiigEwBnOVb"
   },
   "outputs": [],
   "source": [
    "N_FEATURES = 210\n",
    "folderpath = './openpose/output/'\n",
    "COL_NAMES = ['f_' + str(i) for i in range(N_FEATURES)]"
   ]
  },
  {
   "cell_type": "code",
   "execution_count": 0,
   "metadata": {
    "colab": {},
    "colab_type": "code",
    "id": "JlWKKF-0j3fv"
   },
   "outputs": [],
   "source": [
    "# collect the json output of openpose and combine them into dataframe\n",
    "def json_to_df(folderpath):\n",
    "  row = 0\n",
    "  matrix = []\n",
    "  for name in os.listdir(folderpath):\n",
    "    if (name[-4:] == 'json'):\n",
    "      filepath = os.path.join(folderpath, name)\n",
    "      if os.path.isfile(filepath):\n",
    "        with open(filepath, 'r') as f:\n",
    "          data = json.load(f)['people']\n",
    "          if len(data) > 0:\n",
    "            matrix.append([])\n",
    "            for j in range(N_FEATURES):\n",
    "              matrix[row].append(float(data[0]['face_keypoints_2d'][j]))\n",
    "          else:\n",
    "            cur_row = [0 for i in range(210)]\n",
    "            matrix.append(cur_row)\n",
    "          row += 1\n",
    "  df = pd.DataFrame(matrix, columns = COL_NAMES)\n",
    "  return df"
   ]
  },
  {
   "cell_type": "code",
   "execution_count": 0,
   "metadata": {
    "colab": {},
    "colab_type": "code",
    "id": "6Yyv5aIPoT-d"
   },
   "outputs": [],
   "source": [
    "# dataframe to csv and upload to google drive (not necessary)\n",
    "def upload_csv(df, i):\n",
    "  name = 'sample_' + str(i) + '.csv'\n",
    "  df.to_csv(name, index=False)\n",
    "  upload(name)"
   ]
  },
  {
   "cell_type": "markdown",
   "metadata": {
    "colab_type": "text",
    "id": "IYPPZIqNg5z0"
   },
   "source": [
    "Reshape Data into Segments and Prepare for Keras"
   ]
  },
  {
   "cell_type": "code",
   "execution_count": 0,
   "metadata": {
    "colab": {},
    "colab_type": "code",
    "id": "DamL97OJhAy7"
   },
   "outputs": [],
   "source": [
    "# slice every 10 frame as a segment until the last frame reaches the end\n",
    "def get_segments_and_timestamps(df, fps, STEP):\n",
    "  slices = []\n",
    "  ts = []\n",
    "  size = df.shape[0]\n",
    "  i = STEP\n",
    "  if size >= STEP:\n",
    "    while i <= size:\n",
    "      if i >= STEP:\n",
    "        slices.append(df.values[df.index[i - STEP : i]])\n",
    "        ts.append(i/fps)\n",
    "      i += 1\n",
    "  else:\n",
    "    slice_ = df.values\n",
    "    fillzero = np.zeros((STEP - size, N_FEATURES))\n",
    "    slice_ = np.concatenate((slice_, fillzero), axis=0)\n",
    "    slices.append(slice_)\n",
    "  slices_arr = np.asarray(slices, dtype= np.float32)\n",
    "  ts_arr = np.asarray(ts, dtype= np.float32)\n",
    "  return slices_arr, ts_arr"
   ]
  },
  {
   "cell_type": "markdown",
   "metadata": {
    "colab_type": "text",
    "id": "ziYM4Ddl9CIB"
   },
   "source": [
    "Load model and weight"
   ]
  },
  {
   "cell_type": "code",
   "execution_count": 0,
   "metadata": {
    "colab": {},
    "colab_type": "code",
    "id": "k7k3H25C83xx"
   },
   "outputs": [],
   "source": [
    "from keras.layers.embeddings import Embedding\n",
    "from keras.models import Sequential\n",
    "from keras.layers import Dense, LSTM, LSTM, Dropout, Flatten\n",
    "from keras.callbacks import History, EarlyStopping\n",
    "from keras.models import load_model"
   ]
  },
  {
   "cell_type": "code",
   "execution_count": 0,
   "metadata": {
    "colab": {},
    "colab_type": "code",
    "id": "DdxYrwZNfQPY"
   },
   "outputs": [],
   "source": [
    "# Load the model\n",
    "def load_model_trained():\n",
    "  model = drive.CreateFile({'id': '1lP5U2z7OMAW9-qocQAXJr_OsVKtpGLtw'})                       \n",
    "  model.GetContentFile('model.h5') \n",
    "  model = load_model('model.h5')"
   ]
  },
  {
   "cell_type": "code",
   "execution_count": 0,
   "metadata": {
    "colab": {},
    "colab_type": "code",
    "id": "Ej3adZQfWaHT"
   },
   "outputs": [],
   "source": [
    "# # if the function above does not work, run this line to reload the model\n",
    "# model = load_model('model.h5')"
   ]
  },
  {
   "cell_type": "markdown",
   "metadata": {
    "colab_type": "text",
    "id": "V66TXaON9FK5"
   },
   "source": [
    "Make prediction"
   ]
  },
  {
   "cell_type": "code",
   "execution_count": 0,
   "metadata": {
    "colab": {},
    "colab_type": "code",
    "id": "fkpbSCkLghKk"
   },
   "outputs": [],
   "source": [
    "# y_pred = model.predict(X_arr)"
   ]
  },
  {
   "cell_type": "markdown",
   "metadata": {
    "colab_type": "text",
    "id": "t2SMZw2D80U5"
   },
   "source": [
    "Draw figure"
   ]
  },
  {
   "cell_type": "code",
   "execution_count": 0,
   "metadata": {
    "colab": {},
    "colab_type": "code",
    "id": "syJ-FAljgmZu"
   },
   "outputs": [],
   "source": [
    "import matplotlib.pyplot as plt\n",
    "\n",
    "def drawplt(time, pred):\n",
    "  plt.figure(figsize=(15,10))\n",
    "  # plt.plot(time, pred, 'b', label='prediction', markersize=1)\n",
    "  plt.plot(time, pred, 'bo', label='prediction', markersize=3, color='red')\n",
    "  plt.title('Prediction over time')\n",
    "  plt.legend()\n",
    "  plt.show()"
   ]
  },
  {
   "cell_type": "markdown",
   "metadata": {
    "colab_type": "text",
    "id": "FvQiqbWFCwwd"
   },
   "source": [
    "Generate json"
   ]
  },
  {
   "cell_type": "code",
   "execution_count": 0,
   "metadata": {
    "colab": {},
    "colab_type": "code",
    "id": "yL1dNQCAFZaA"
   },
   "outputs": [],
   "source": [
    "def to_json(name):\n",
    "  np_pred = np.array((ts_arr, y_pred.flatten())).T\n",
    "  pred_list = np_pred.tolist()\n",
    "  pred_dict = {\"cry\":pred_list}\n",
    "  pred_json = json.dumps(pred_dict)\n",
    "  with open(name, 'w') as json_file:\n",
    "    json_file.write(pred_json)\n",
    "  # upload(name)"
   ]
  },
  {
   "cell_type": "markdown",
   "metadata": {
    "colab_type": "text",
    "id": "D0Sb02UoIK3y"
   },
   "source": [
    "Automation"
   ]
  },
  {
   "cell_type": "code",
   "execution_count": 0,
   "metadata": {
    "colab": {},
    "colab_type": "code",
    "id": "CVExD79BIMoc"
   },
   "outputs": [],
   "source": [
    "# load model\n",
    "load_model_trained()\n",
    "# collect the json output of openpose and combine them into dataframe\n",
    "df = json_to_df(folderpath)\n",
    "# get input and timestamp\n",
    "X_arr, ts_arr = get_segments_and_timestamps(df, 30, 10)\n",
    "# get prediction\n",
    "y_pred = model.predict(X_arr)\n",
    "# draw plot\n",
    "drawplt(ts_arr, y_pred)\n",
    "# output json file\n",
    "json_name = 'sample.json'\n",
    "to_json(json_name)"
   ]
  }
 ],
 "metadata": {
  "accelerator": "GPU",
  "colab": {
   "authorship_tag": "ABX9TyMnrPxlJtL9uKcUa17OFN6h",
   "collapsed_sections": [],
   "name": "demo.ipynb",
   "provenance": []
  },
  "kernelspec": {
   "display_name": "Python 2",
   "language": "python",
   "name": "python2"
  },
  "language_info": {
   "codemirror_mode": {
    "name": "ipython",
    "version": 2
   },
   "file_extension": ".py",
   "mimetype": "text/x-python",
   "name": "python",
   "nbconvert_exporter": "python",
   "pygments_lexer": "ipython2",
   "version": "2.7.17"
  }
 },
 "nbformat": 4,
 "nbformat_minor": 1
}
